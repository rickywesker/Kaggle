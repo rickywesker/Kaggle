{
 "cells": [
  {
   "cell_type": "code",
   "execution_count": 15,
   "metadata": {},
   "outputs": [],
   "source": [
    "import torch\n",
    "import torch.nn as nn\n",
    "import torchvision.transforms as transforms\n",
    "from torch.autograd import Variable\n",
    "import pandas as pd\n",
    "from sklearn.model_selection import train_test_split\n",
    "import numpy as np\n",
    "import matplotlib.pyplot as plt"
   ]
  },
  {
   "cell_type": "code",
   "execution_count": 53,
   "metadata": {},
   "outputs": [
    {
     "data": {
      "image/png": "[encoded data removed]",
      "text/plain": [
       "<Figure size 432x288 with 1 Axes>"
      ]
     },
     "metadata": {},
     "output_type": "display_data"
    }
   ],
   "source": [
    "#Dataset Prepare\n",
    "#load data\n",
    "train = pd.read_csv(\"train.csv\",dtype = np.float32)\n",
    "test_img = pd.read_csv(\"test.csv\",dtype = np.float32)\n",
    "#split data into features(pixels) and labels(0-9)\n",
    "labels_numpy = train.label.values\n",
    "features_numpy = train.loc[:,train.columns != \"label\"].values/255 #normalization\n",
    "\n",
    "#split data into test,train.\n",
    "features_train, features_test, targets_train, targets_test = train_test_split(features_numpy, labels_numpy,test_size = 0.2,random_state = 42)\n",
    "\n",
    "#create features and target tensor for training set.\n",
    "featuresTrain = torch.from_numpy(features_train)\n",
    "targetsTrain = torch.from_numpy(targets_train).type(torch.LongTensor)\n",
    "\n",
    "#create features and target tensor for testing set.\n",
    "featuresTest = torch.from_numpy(features_test)\n",
    "targetsTest = torch.from_numpy(targets_test).type(torch.LongTensor)\n",
    "\n",
    "#batch_size, epoch and iteration\n",
    "batch_size = 100\n",
    "n_iters = 30000\n",
    "num_epochs = n_iters / ((len(features_train)) / batch_size)\n",
    "num_epochs = int(num_epochs)\n",
    "\n",
    "#pytorch train and test sets\n",
    "train = torch.utils.data.TensorDataset(featuresTrain,targetsTrain)\n",
    "test = torch.utils.data.TensorDataset(featuresTest,targetsTest)\n",
    "\n",
    "#data loader\n",
    "train_loader = torch.utils.data.DataLoader(train,batch_size=batch_size,shuffle=False)\n",
    "test_loader = torch.utils.data.DataLoader(test,batch_size=batch_size,shuffle=False)\n",
    "\n",
    "#See one of the images\n",
    "plt.imshow(features_numpy[10].reshape(28,28))\n",
    "plt.axis(\"off\")\n",
    "plt.title(str(labels_numpy[10]))\n",
    "plt.savefig('graph.png')\n",
    "plt.show()\n",
    "\n",
    "\n",
    "\n"
   ]
  },
  {
   "cell_type": "code",
   "execution_count": 54,
   "metadata": {},
   "outputs": [],
   "source": [
    "#Using ANN\n",
    "class ANNModel(nn.Module):\n",
    "    def __init__(self, input_dim,hidden_dim,output_dim):\n",
    "        super(ANNModel, self).__init__()\n",
    "        #Linear1:784 --> 100\n",
    "        self.fc1 = nn.Linear(input_dim,hidden_dim)\n",
    "        #Non-Linear 1\n",
    "        self.relu1 = nn.ReLU()\n",
    "        \n",
    "        #Linear2:100 --> 100\n",
    "        self.fc2 = nn.Linear(hidden_dim,hidden_dim)\n",
    "        #Non-Linear 2\n",
    "        self.tanh2 = nn.Tanh()\n",
    "        \n",
    "        #Lin3:100 --> 100\n",
    "        self.fc3 = nn.Linear(hidden_dim,hidden_dim)\n",
    "        #Non-Linear3\n",
    "        self.elu3 = nn.ELU()\n",
    "        \n",
    "        #lin4 output layer: 100 -- > 10\n",
    "        self.fc4 = nn.Linear(hidden_dim,output_dim)\n",
    "    def forward(self,x):\n",
    "        #lin1\n",
    "        out = self.fc1(x)\n",
    "        #non-Linear1\n",
    "        out = self.relu1(out)\n",
    "        \n",
    "        #lin2\n",
    "        out = self.fc2(out)\n",
    "        out = self.tanh2(out)\n",
    "        \n",
    "        #l3\n",
    "        out = self.fc3(out)\n",
    "        out = self.elu3(out)\n",
    "        \n",
    "        #l4\n",
    "        out = self.fc4(out)\n",
    "        return out\n",
    "    \n",
    "#ANN parameters\n",
    "input_dim = 28*28\n",
    "hidden_dim = 150 #hyper\n",
    "output_dim = 10\n",
    "\n",
    "#implement ANN\n",
    "model = ANNModel(input_dim, hidden_dim, output_dim)\n",
    "\n",
    "#GPU\n",
    "#model.cuda()\n",
    "#Cross Entropy Loss\n",
    "error = nn.CrossEntropyLoss()\n",
    "\n",
    "#SGD Optimizer\n",
    "learning_rate = 0.02\n",
    "optimizer = torch.optim.SGD(model.parameters(), lr = learning_rate)"
   ]
  },
  {
   "cell_type": "code",
   "execution_count": 55,
   "metadata": {},
   "outputs": [
    {
     "name": "stdout",
     "output_type": "stream",
     "text": [
      "Iteration: 500 Loss: 0.7672784924507141 Accuracy: 77.0 %\n",
      "Iteration: 1000 Loss: 0.48778247833251953 Accuracy: 86.0 %\n",
      "Iteration: 1500 Loss: 0.24445506930351257 Accuracy: 89.0 %\n",
      "Iteration: 2000 Loss: 0.3037043809890747 Accuracy: 90.0 %\n",
      "Iteration: 2500 Loss: 0.29880622029304504 Accuracy: 91.0 %\n",
      "Iteration: 3000 Loss: 0.12172821164131165 Accuracy: 92.0 %\n",
      "Iteration: 3500 Loss: 0.22102780640125275 Accuracy: 93.0 %\n",
      "Iteration: 4000 Loss: 0.06700796633958817 Accuracy: 94.0 %\n",
      "Iteration: 4500 Loss: 0.288056343793869 Accuracy: 94.0 %\n",
      "Iteration: 5000 Loss: 0.09658544510602951 Accuracy: 94.0 %\n",
      "Iteration: 5500 Loss: 0.18446284532546997 Accuracy: 94.0 %\n",
      "Iteration: 6000 Loss: 0.17441266775131226 Accuracy: 95.0 %\n",
      "Iteration: 6500 Loss: 0.08498352020978928 Accuracy: 95.0 %\n",
      "Iteration: 7000 Loss: 0.11041808873414993 Accuracy: 95.0 %\n",
      "Iteration: 7500 Loss: 0.12350364029407501 Accuracy: 95.0 %\n",
      "Iteration: 8000 Loss: 0.17332248389720917 Accuracy: 95.0 %\n",
      "Iteration: 8500 Loss: 0.04630681127309799 Accuracy: 96.0 %\n",
      "Iteration: 9000 Loss: 0.051087889820337296 Accuracy: 96.0 %\n",
      "Iteration: 9500 Loss: 0.024776315316557884 Accuracy: 96.0 %\n",
      "Iteration: 10000 Loss: 0.13462316989898682 Accuracy: 96.0 %\n",
      "Iteration: 10500 Loss: 0.026546970009803772 Accuracy: 96.0 %\n",
      "Iteration: 11000 Loss: 0.07686747610569 Accuracy: 96.0 %\n",
      "Iteration: 11500 Loss: 0.05552339553833008 Accuracy: 96.0 %\n",
      "Iteration: 12000 Loss: 0.055953916162252426 Accuracy: 96.0 %\n",
      "Iteration: 12500 Loss: 0.06556690484285355 Accuracy: 96.0 %\n",
      "Iteration: 13000 Loss: 0.024551672860980034 Accuracy: 96.0 %\n",
      "Iteration: 13500 Loss: 0.06121167168021202 Accuracy: 96.0 %\n",
      "Iteration: 14000 Loss: 0.09542877972126007 Accuracy: 96.0 %\n",
      "Iteration: 14500 Loss: 0.03296367824077606 Accuracy: 96.0 %\n",
      "Iteration: 15000 Loss: 0.022421322762966156 Accuracy: 96.0 %\n",
      "Iteration: 15500 Loss: 0.036832261830568314 Accuracy: 96.0 %\n",
      "Iteration: 16000 Loss: 0.01874292828142643 Accuracy: 96.0 %\n",
      "Iteration: 16500 Loss: 0.01790800131857395 Accuracy: 96.0 %\n",
      "Iteration: 17000 Loss: 0.03285845369100571 Accuracy: 96.0 %\n",
      "Iteration: 17500 Loss: 0.026595057919621468 Accuracy: 97.0 %\n",
      "Iteration: 18000 Loss: 0.02229630947113037 Accuracy: 96.0 %\n",
      "Iteration: 18500 Loss: 0.0330938994884491 Accuracy: 97.0 %\n",
      "Iteration: 19000 Loss: 0.015113248489797115 Accuracy: 96.0 %\n",
      "Iteration: 19500 Loss: 0.0087392283603549 Accuracy: 96.0 %\n",
      "Iteration: 20000 Loss: 0.014157390221953392 Accuracy: 96.0 %\n",
      "Iteration: 20500 Loss: 0.01331157237291336 Accuracy: 97.0 %\n",
      "Iteration: 21000 Loss: 0.009457063861191273 Accuracy: 96.0 %\n",
      "Iteration: 21500 Loss: 0.010825609788298607 Accuracy: 97.0 %\n",
      "Iteration: 22000 Loss: 0.009627003222703934 Accuracy: 97.0 %\n",
      "Iteration: 22500 Loss: 0.004404888022691011 Accuracy: 97.0 %\n",
      "Iteration: 23000 Loss: 0.006055078469216824 Accuracy: 97.0 %\n",
      "Iteration: 23500 Loss: 0.0038503266405314207 Accuracy: 97.0 %\n",
      "Iteration: 24000 Loss: 0.005179896485060453 Accuracy: 97.0 %\n",
      "Iteration: 24500 Loss: 0.013666076585650444 Accuracy: 97.0 %\n",
      "Iteration: 25000 Loss: 0.018857397139072418 Accuracy: 97.0 %\n",
      "Iteration: 25500 Loss: 0.00637990003451705 Accuracy: 97.0 %\n",
      "Iteration: 26000 Loss: 0.0032709408551454544 Accuracy: 97.0 %\n",
      "Iteration: 26500 Loss: 0.006005673203617334 Accuracy: 97.0 %\n",
      "Iteration: 27000 Loss: 0.004165067803114653 Accuracy: 97.0 %\n",
      "Iteration: 27500 Loss: 0.003922939300537109 Accuracy: 97.0 %\n",
      "Iteration: 28000 Loss: 0.0068454076535999775 Accuracy: 97.0 %\n",
      "Iteration: 28500 Loss: 0.003280382137745619 Accuracy: 97.0 %\n",
      "Iteration: 29000 Loss: 0.004174232482910156 Accuracy: 97.0 %\n",
      "Iteration: 29500 Loss: 0.0018322467803955078 Accuracy: 97.0 %\n"
     ]
    }
   ],
   "source": [
    "#ANN model Training\n",
    "count = 0\n",
    "loss_list=[]\n",
    "iteration_list = []\n",
    "accuracy_list = []\n",
    "for epoch in range(num_epochs):\n",
    "    for i, (images, labels) in enumerate(train_loader):\n",
    "        \n",
    "        train = Variable(images.view(-1,28*28))\n",
    "        labels = Variable(labels)\n",
    "        \n",
    "        #Clear gradients\n",
    "        optimizer.zero_grad()\n",
    "        \n",
    "        #Forward Propagation\n",
    "        outputs = model(train)\n",
    "        \n",
    "        #Calculate softmax and cross entropy loss\n",
    "        loss = error(outputs,labels)\n",
    "        \n",
    "        #Calculate gradients\n",
    "        loss.backward()\n",
    "        \n",
    "        #update parameters\n",
    "        optimizer.step()\n",
    "        \n",
    "        count+=1\n",
    "        \n",
    "        if count % 50 == 0:\n",
    "            #Accuracy\n",
    "            correct = 0\n",
    "            total = 0\n",
    "            #Predict test dataset\n",
    "            for images, labels in test_loader:\n",
    "                \n",
    "                test = Variable(images.view(-1,28*28))\n",
    "                \n",
    "                #forward\n",
    "                outputs = model(test)\n",
    "                \n",
    "                \n",
    "                #Get prediction from max. val\n",
    "                predicted = torch.max(outputs.data,1)[1]\n",
    "                #GPU!!!!\n",
    "                #predicted = torch.max(outputs.data,1)[1]\n",
    "                #total number of labels\n",
    "                total += len(labels)\n",
    "                #total correct predictions\n",
    "                correct += (predicted == labels).sum()\n",
    "            accuracy = float(100 * correct / float(total))\n",
    "            #store loss and iteration\n",
    "            loss_list.append(loss.data)\n",
    "            iteration_list.append(count)\n",
    "            accuracy_list.append(accuracy)\n",
    "            if count % 500 == 0:\n",
    "                #print loss\n",
    "                print('Iteration: {} Loss: {} Accuracy: {} %'.format(count,loss.data,accuracy))"
   ]
  },
  {
   "cell_type": "code",
   "execution_count": 56,
   "metadata": {},
   "outputs": [
    {
     "data": {
      "image/png": "[encoded data removed]",
      "text/plain": [
       "<Figure size 432x288 with 1 Axes>"
      ]
     },
     "metadata": {},
     "output_type": "display_data"
    },
    {
     "data": {
      "image/png": "[encoded data removed]",
      "text/plain": [
       "<Figure size 432x288 with 1 Axes>"
      ]
     },
     "metadata": {},
     "output_type": "display_data"
    }
   ],
   "source": [
    "plt.plot(iteration_list,loss_list)\n",
    "plt.xlabel(\"Number of iteration\")\n",
    "plt.ylabel(\"Loss\")\n",
    "plt.title(\"ANN: Loss vs Number of iteration\")\n",
    "plt.show()\n",
    "\n",
    "# visualization accuracy \n",
    "plt.plot(iteration_list,accuracy_list,color = \"red\")\n",
    "plt.xlabel(\"Number of iteration\")\n",
    "plt.ylabel(\"Accuracy\")\n",
    "plt.title(\"ANN: Accuracy vs Number of iteration\")\n",
    "plt.show()"
   ]
  },
  {
   "cell_type": "code",
   "execution_count": 67,
   "metadata": {},
   "outputs": [],
   "source": [
    "test_img = np.array(test_img)\n",
    "test_ts = torch.from_numpy(test_img)"
   ]
  },
  {
   "cell_type": "code",
   "execution_count": 100,
   "metadata": {},
   "outputs": [],
   "source": [
    "out = model(test_ts)\n",
    "submit = torch.max(out.data,1)[1]"
   ]
  },
  {
   "cell_type": "code",
   "execution_count": 101,
   "metadata": {},
   "outputs": [],
   "source": [
    "submit = submit.numpy()"
   ]
  },
  {
   "cell_type": "code",
   "execution_count": 102,
   "metadata": {},
   "outputs": [
    {
     "data": {
      "text/plain": [
       "(28000,)"
      ]
     },
     "execution_count": 102,
     "metadata": {},
     "output_type": "execute_result"
    }
   ],
   "source": [
    "submit.shape"
   ]
  },
  {
   "cell_type": "code",
   "execution_count": 93,
   "metadata": {},
   "outputs": [],
   "source": [
    "index = np.arange(1,28001)"
   ]
  },
  {
   "cell_type": "code",
   "execution_count": 94,
   "metadata": {},
   "outputs": [
    {
     "data": {
      "text/plain": [
       "array([    1,     2,     3, ..., 27998, 27999, 28000])"
      ]
     },
     "execution_count": 94,
     "metadata": {},
     "output_type": "execute_result"
    }
   ],
   "source": [
    "index"
   ]
  },
  {
   "cell_type": "code",
   "execution_count": 95,
   "metadata": {},
   "outputs": [],
   "source": [
    "index = pd.DataFrame(index)"
   ]
  },
  {
   "cell_type": "code",
   "execution_count": 103,
   "metadata": {},
   "outputs": [],
   "source": [
    "submit = pd.DataFrame(submit)"
   ]
  },
  {
   "cell_type": "code",
   "execution_count": 98,
   "metadata": {},
   "outputs": [],
   "source": []
  },
  {
   "cell_type": "code",
   "execution_count": 106,
   "metadata": {},
   "outputs": [],
   "source": [
    "submit.to_csv(\"submi\")"
   ]
  },
  {
   "cell_type": "code",
   "execution_count": 107,
   "metadata": {},
   "outputs": [
    {
     "name": "stdout",
     "output_type": "stream",
     "text": [
      "tensor([[1.0000e+00, 1.0000e+00, 2.8613e+31],\n",
      "        [1.0000e+00, 1.5375e+31, 1.0000e+00],\n",
      "        [1.1066e+33, 1.0000e+00, 1.5109e+31],\n",
      "        [1.0000e+00, 1.0000e+00, 1.0000e+00],\n",
      "        [1.0000e+00, 1.0000e+00, 4.3552e+34]], device='cuda:0')\n",
      "tensor([[1.0000e+00, 1.0000e+00, 2.8613e+31],\n",
      "        [1.0000e+00, 1.5375e+31, 1.0000e+00],\n",
      "        [1.1066e+33, 1.0000e+00, 1.5109e+31],\n",
      "        [1.0000e+00, 1.0000e+00, 1.0000e+00],\n",
      "        [1.0000e+00, 1.0000e+00, 4.3552e+34]], dtype=torch.float64)\n"
     ]
    }
   ],
   "source": [
    "x = torch.empty(5,3)\n",
    "if torch.cuda.is_available():\n",
    "    device = torch.device(\"cuda\")\n",
    "    y = torch.ones_like(x,device=device)\n",
    "    x= x.to(device)\n",
    "    z = x + y\n",
    "    print(z)\n",
    "    print(z.to(\"cpu\",torch.double))"
   ]
  },
  {
   "cell_type": "code",
   "execution_count": null,
   "metadata": {},
   "outputs": [],
   "source": []
  }
 ],
 "metadata": {
  "kernelspec": {
   "display_name": "Python 3",
   "language": "python",
   "name": "python3"
  },
  "language_info": {
   "codemirror_mode": {
    "name": "ipython",
    "version": 3
   },
   "file_extension": ".py",
   "mimetype": "text/x-python",
   "name": "python",
   "nbconvert_exporter": "python",
   "pygments_lexer": "ipython3",
   "version": "3.7.1"
  }
 },
 "nbformat": 4,
 "nbformat_minor": 2
}
